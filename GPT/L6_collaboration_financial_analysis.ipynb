{
 "cells": [
  {
   "cell_type": "markdown",
   "metadata": {},
   "source": [
    "# L6: Multi-agent Collaboration for Financial Analysis\n",
    "\n",
    "In this lesson, you will learn ways for making agents collaborate with each other."
   ]
  },
  {
   "cell_type": "markdown",
   "metadata": {},
   "source": [
    "The libraries are already installed in the classroom. If you're running this notebook on your own machine, you can install the following:\n",
    "```Python\n",
    "!pip install crewai==0.28.8 crewai_tools==0.1.6 langchain_community==0.0.29\n",
    "```"
   ]
  },
  {
   "cell_type": "code",
   "execution_count": 1,
   "metadata": {
    "height": 64
   },
   "outputs": [],
   "source": [
    "# Warning control\n",
    "import warnings\n",
    "warnings.filterwarnings('ignore')"
   ]
  },
  {
   "cell_type": "markdown",
   "metadata": {},
   "source": [
    "- Import libraries, APIs and LLM"
   ]
  },
  {
   "cell_type": "code",
   "execution_count": 2,
   "metadata": {
    "height": 30
   },
   "outputs": [],
   "source": [
    "from crewai import Agent, Task, Crew"
   ]
  },
  {
   "cell_type": "markdown",
   "metadata": {},
   "source": [
    "**Note**: \n",
    "- The video uses `gpt-4-turbo`, but due to certain constraints, and in order to offer this course for free to everyone, the code you'll run here will use `gpt-3.5-turbo`.\n",
    "- You can use `gpt-4-turbo` when you run the notebook _locally_ (using `gpt-4-turbo` will not work on the platform)\n",
    "- Thank you for your understanding!"
   ]
  },
  {
   "cell_type": "code",
   "execution_count": 3,
   "metadata": {
    "height": 115
   },
   "outputs": [],
   "source": [
    "import os\n",
    "from utils import get_openai_api_key, get_serper_api_key\n",
    "\n",
    "openai_api_key = get_openai_api_key()\n",
    "os.environ[\"OPENAI_MODEL_NAME\"] = 'gpt-3.5-turbo'\n",
    "os.environ[\"SERPER_API_KEY\"] = get_serper_api_key()"
   ]
  },
  {
   "cell_type": "markdown",
   "metadata": {},
   "source": [
    "## crewAI Tools"
   ]
  },
  {
   "cell_type": "code",
   "execution_count": 4,
   "metadata": {
    "height": 81
   },
   "outputs": [],
   "source": [
    "from crewai_tools import ScrapeWebsiteTool, SerperDevTool\n",
    "\n",
    "search_tool = SerperDevTool()\n",
    "scrape_tool = ScrapeWebsiteTool()"
   ]
  },
  {
   "cell_type": "markdown",
   "metadata": {},
   "source": [
    "## Creating Agents"
   ]
  },
  {
   "cell_type": "code",
   "execution_count": 5,
   "metadata": {
    "height": 249
   },
   "outputs": [],
   "source": [
    "data_analyst_agent = Agent(\n",
    "    role=\"Data Analyst\",\n",
    "    goal=\"Monitor and analyze market data in real-time \"\n",
    "         \"to identify trends and predict market movements.\",\n",
    "    backstory=\"Specializing in financial markets, this agent \"\n",
    "              \"uses statistical modeling and machine learning \"\n",
    "              \"to provide crucial insights. With a knack for data, \"\n",
    "              \"the Data Analyst Agent is the cornerstone for \"\n",
    "              \"informing trading decisions.\",\n",
    "    verbose=True,\n",
    "    allow_delegation=True,\n",
    "    tools = [scrape_tool, search_tool]\n",
    ")"
   ]
  },
  {
   "cell_type": "code",
   "execution_count": 6,
   "metadata": {
    "height": 249
   },
   "outputs": [],
   "source": [
    "trading_strategy_agent = Agent(\n",
    "    role=\"Trading Strategy Developer\",\n",
    "    goal=\"Develop and test various trading strategies based \"\n",
    "         \"on insights from the Data Analyst Agent.\",\n",
    "    backstory=\"Equipped with a deep understanding of financial \"\n",
    "              \"markets and quantitative analysis, this agent \"\n",
    "              \"devises and refines trading strategies. It evaluates \"\n",
    "              \"the performance of different approaches to determine \"\n",
    "              \"the most profitable and risk-averse options.\",\n",
    "    verbose=True,\n",
    "    allow_delegation=True,\n",
    "    tools = [scrape_tool, search_tool]\n",
    ")"
   ]
  },
  {
   "cell_type": "code",
   "execution_count": 7,
   "metadata": {
    "height": 249
   },
   "outputs": [],
   "source": [
    "execution_agent = Agent(\n",
    "    role=\"Trade Advisor\",\n",
    "    goal=\"Suggest optimal trade execution strategies \"\n",
    "         \"based on approved trading strategies.\",\n",
    "    backstory=\"This agent specializes in analyzing the timing, price, \"\n",
    "              \"and logistical details of potential trades. By evaluating \"\n",
    "              \"these factors, it provides well-founded suggestions for \"\n",
    "              \"when and how trades should be executed to maximize \"\n",
    "              \"efficiency and adherence to strategy.\",\n",
    "    verbose=True,\n",
    "    allow_delegation=True,\n",
    "    tools = [scrape_tool, search_tool]\n",
    ")"
   ]
  },
  {
   "cell_type": "code",
   "execution_count": 8,
   "metadata": {
    "height": 249
   },
   "outputs": [],
   "source": [
    "risk_management_agent = Agent(\n",
    "    role=\"Risk Advisor\",\n",
    "    goal=\"Evaluate and provide insights on the risks \"\n",
    "         \"associated with potential trading activities.\",\n",
    "    backstory=\"Armed with a deep understanding of risk assessment models \"\n",
    "              \"and market dynamics, this agent scrutinizes the potential \"\n",
    "              \"risks of proposed trades. It offers a detailed analysis of \"\n",
    "              \"risk exposure and suggests safeguards to ensure that \"\n",
    "              \"trading activities align with the firm’s risk tolerance.\",\n",
    "    verbose=True,\n",
    "    allow_delegation=True,\n",
    "    tools = [scrape_tool, search_tool]\n",
    ")"
   ]
  },
  {
   "cell_type": "markdown",
   "metadata": {},
   "source": [
    "## Creating Tasks"
   ]
  },
  {
   "cell_type": "code",
   "execution_count": 9,
   "metadata": {
    "height": 251
   },
   "outputs": [],
   "source": [
    "# Task for Data Analyst Agent: Analyze Market Data\n",
    "data_analysis_task = Task(\n",
    "    description=(\n",
    "        \"Continuously monitor and analyze market data for \"\n",
    "        \"the selected stock ({stock_selection}). \"\n",
    "        \"Use statistical modeling and machine learning to \"\n",
    "        \"identify trends and predict market movements.\"\n",
    "    ),\n",
    "    expected_output=(\n",
    "        \"Insights and alerts about significant market \"\n",
    "        \"opportunities or threats for {stock_selection}.\"\n",
    "    ),\n",
    "    agent=data_analyst_agent,\n",
    ")"
   ]
  },
  {
   "cell_type": "code",
   "execution_count": 10,
   "metadata": {
    "height": 283
   },
   "outputs": [],
   "source": [
    "# Task for Trading Strategy Agent: Develop Trading Strategies\n",
    "strategy_development_task = Task(\n",
    "    description=(\n",
    "        \"Develop and refine trading strategies based on \"\n",
    "        \"the insights from the Data Analyst and \"\n",
    "        \"user-defined risk tolerance ({risk_tolerance}). \"\n",
    "        \"Consider trading preferences ({trading_strategy_preference}).\"\n",
    "    ),\n",
    "    expected_output=(\n",
    "        \"A set of potential trading strategies for {stock_selection} \"\n",
    "        \"that align with the user's risk tolerance.\"\n",
    "    ),\n",
    "    agent=trading_strategy_agent,\n",
    ")\n"
   ]
  },
  {
   "cell_type": "code",
   "execution_count": 11,
   "metadata": {
    "height": 266
   },
   "outputs": [],
   "source": [
    "# Task for Trade Advisor Agent: Plan Trade Execution\n",
    "execution_planning_task = Task(\n",
    "    description=(\n",
    "        \"Analyze approved trading strategies to determine the \"\n",
    "        \"best execution methods for {stock_selection}, \"\n",
    "        \"considering current market conditions and optimal pricing.\"\n",
    "    ),\n",
    "    expected_output=(\n",
    "        \"Detailed execution plans suggesting how and when to \"\n",
    "        \"execute trades for {stock_selection}.\"\n",
    "    ),\n",
    "    agent=execution_agent,\n",
    ")\n"
   ]
  },
  {
   "cell_type": "code",
   "execution_count": 12,
   "metadata": {
    "height": 266
   },
   "outputs": [],
   "source": [
    "# Task for Risk Advisor Agent: Assess Trading Risks\n",
    "risk_assessment_task = Task(\n",
    "    description=(\n",
    "        \"Evaluate the risks associated with the proposed trading \"\n",
    "        \"strategies and execution plans for {stock_selection}. \"\n",
    "        \"Provide a detailed analysis of potential risks \"\n",
    "        \"and suggest mitigation strategies.\"\n",
    "    ),\n",
    "    expected_output=(\n",
    "        \"A comprehensive risk analysis report detailing potential \"\n",
    "        \"risks and mitigation recommendations for {stock_selection}.\"\n",
    "    ),\n",
    "    agent=risk_management_agent,\n",
    ")"
   ]
  },
  {
   "cell_type": "markdown",
   "metadata": {},
   "source": [
    "## Creating the Crew\n",
    "- The `Process` class helps to delegate the workflow to the Agents (kind of like a Manager at work)\n",
    "- In the example below, it will run this hierarchically.\n",
    "- `manager_llm` lets you choose the \"manager\" LLM you want to use."
   ]
  },
  {
   "cell_type": "code",
   "execution_count": 13,
   "metadata": {
    "height": 353
   },
   "outputs": [],
   "source": [
    "from crewai import Crew, Process\n",
    "from langchain_openai import ChatOpenAI\n",
    "\n",
    "# Define the crew with agents and tasks\n",
    "financial_trading_crew = Crew(\n",
    "    agents=[data_analyst_agent, \n",
    "            trading_strategy_agent, \n",
    "            execution_agent, \n",
    "            risk_management_agent],\n",
    "    \n",
    "    tasks=[data_analysis_task, \n",
    "           strategy_development_task, \n",
    "           execution_planning_task, \n",
    "           risk_assessment_task],\n",
    "    \n",
    "    manager_llm=ChatOpenAI(model=\"gpt-3.5-turbo\", \n",
    "                           temperature=0.7),\n",
    "    process=Process.hierarchical,\n",
    "    verbose=True\n",
    ")"
   ]
  },
  {
   "cell_type": "markdown",
   "metadata": {},
   "source": [
    "## Running the Crew\n",
    "\n",
    "- Set the inputs for the execution of the crew."
   ]
  },
  {
   "cell_type": "code",
   "execution_count": 14,
   "metadata": {
    "height": 149
   },
   "outputs": [],
   "source": [
    "# Example data for kicking off the process\n",
    "financial_trading_inputs = {\n",
    "    'stock_selection': 'AAPL',\n",
    "    'initial_capital': '100000',\n",
    "    'risk_tolerance': 'Medium',\n",
    "    'trading_strategy_preference': 'Day Trading',\n",
    "    'news_impact_consideration': True\n",
    "}"
   ]
  },
  {
   "cell_type": "markdown",
   "metadata": {},
   "source": [
    "**Note**: LLMs can provide different outputs for they same input, so what you get might be different than what you see in the video."
   ]
  },
  {
   "cell_type": "code",
   "execution_count": null,
   "metadata": {
    "height": 62
   },
   "outputs": [
    {
     "name": "stdout",
     "output_type": "stream",
     "text": [
      "\u001b[1m\u001b[92m [DEBUG]: Working Agent: Crew Manager\u001b[00m\n",
      "\u001b[1m\u001b[92m [INFO]: Starting Task: Continuously monitor and analyze market data for the selected stock (AAPL). Use statistical modeling and machine learning to identify trends and predict market movements.\u001b[00m\n",
      "\n",
      "\n",
      "\u001b[1m> Entering new CrewAgentExecutor chain...\u001b[0m\n",
      "\u001b[32;1m\u001b[1;3mI need to ensure that the team is effectively monitoring and analyzing market data for AAPL to identify trends and predict market movements.\n",
      "\n",
      "Action: Delegate work to co-worker\n",
      "Action Input: {\"coworker\": \"Data Analyst\", \"task\": \"Continuously monitor and analyze market data for AAPL\", \"context\": \"The data should be used to identify trends and predict market movements for AAPL. Utilize statistical modeling and machine learning techniques.\"}\u001b[0m\n",
      "\n",
      "\u001b[1m> Entering new CrewAgentExecutor chain...\u001b[0m\n",
      "\u001b[32;1m\u001b[1;3mI need to gather real-time market data for AAPL to identify trends and predict market movements.\n",
      "\n",
      "Action: Read website content\n",
      "Action Input: {\"website_url\": \"https://finance.yahoo.com/quote/AAPL\"}\u001b[0m\u001b[95m \n",
      "\n",
      "Apple Inc. (AAPL) Stock Price, News, Quote & History - Yahoo Finance\n",
      " News Today's news US Politics World Tech Reviews and deals Audio Computing Gaming Health Home Phones Science TVs Climate change Health Science 2024 election Originals The 360 Life Health COVID-19 Fall allergies Health news Mental health Relax Sexual health Studies The Unwind Parenting Family health So mini ways Style and beauty It Figures Unapologetically Horoscopes Shopping Buying guides Food Travel Autos Gift ideas Buying guides Entertainment Celebrity TV Movies Music How to Watch Interviews Videos Shopping Finance My Portfolio My Portfolio News Latest News Stock Market Originals Premium News Economics Housing Earnings Tech Crypto Biden Economy EV Deep Dive Markets Stocks: Most Actives Stocks: Gainers Stocks: Losers Calendars Trending Tickers Futures World Indices US Treasury Bonds Currencies Crypto Top ETFs Top Mutual Funds Highest Open Interest Highest Implied Volatility Stock Comparison Advanced Charts Currency Converter Investment Ideas Research Reports Sectors Basic Materials Communication Services Consumer Cyclical Consumer Defensive Energy Financial Services Healthcare Industrials Real Estate Technology Utilities Screeners Watchlists Equities ETFs Futures Index Mutual Funds Analyst Rating Technical Events Smart Money Top Holdings Personal Finance Credit cards Balance Transfer Cards Cash-back Cards Rewards Cards Travel Cards Banking Personal Loans Student Loans Insurance Car Insurance Mortgages Taxes Videos Morning Brief Catalysts Wealth Market Domination Market Domination Overtime Asking for a Trend Opening Bid Stocks in Translation NEXT Lead This Way Good Buy or Goodbye? ETF Report Sports Fantasy News Fantasy football Best Ball Pro Pick 'Em College Pick 'Em Fantasy baseball Fantasy hockey Fantasy basketball Download the app Daily fantasy NFL News Scores and schedules Standings Stats Teams Players Drafts Injuries Odds Super Bowl GameChannel Videos MLB News Scores and schedules Standings Stats Teams Players Odds Videos World Baseball Classic NBA News Draft Scores and schedules Standings Stats Teams Players Injuries Videos Odds Playoffs NHL News Scores and schedules Standings Stats Teams Players Odds Playoffs Soccer News Scores and schedules Premier League MLS NWSL Liga MX CONCACAF League Champions League La Liga Serie A Bundesliga Ligue 1 World Cup College football News Scores and schedules Standings Rankings Stats Teams Show all MMA WNBA Sportsbook NCAAF Tennis Golf NASCAR NCAAB NCAAW Boxing USFL Cycling Motorsports Olympics Horse racing GameChannel Rivals Newsletters Podcasts Videos RSS Jobs Help World Cup More news New on Yahoo Games Tech Terms Privacy Your Privacy Choices CA Privacy Notice Feedback © 2024 All rights reserved. About our ads Advertising Careers Yahoo Finance Yahoo Finance Search query Select an edition USEnglish US y LATAMEspañol AustraliaEnglish CanadaEnglish CanadaFrançais DeutschlandDeutsch FranceFrançais 香港繁中 MalaysiaEnglish New ZealandEnglish SingaporeEnglish 台灣繁中 UKEnglish News Finance Sports More News Today's news US Politics World Weather Climate change Health Science 2024 election Originals Life Health Parenting Style and beauty Horoscopes Shopping Food Travel Autos Gift ideas Buying guides Entertainment Celebrity TV Movies Music How to watch Interviews Videos Shopping Finance My portfolio Watchlists Markets News Videos Screeners Personal finance Crypto Industries Sports Fantasy NFL NBA MLB NHL College football College basketball Soccer MMA Yahoo Sports AM New on Yahoo Games Tech Selected edition USEnglish Mail Sign in My Portfolio My Portfolio News Latest News Stock Market Originals Premium News Economics Housing Earnings Tech Crypto Biden Economy EV Deep Dive Markets Stocks: Most Actives Stocks: Gainers Stocks: Losers Calendars Trending Tickers Futures World Indices US Treasury Bonds Currencies Crypto Top ETFs Top Mutual Funds Highest Open Interest Highest Implied Volatility Stock Comparison Advanced Charts Currency Converter Investment Ideas Research Reports Sectors Basic Materials Communication Services Consumer Cyclical Consumer Defensive Energy Financial Services Healthcare Industrials Real Estate Technology Utilities Screeners Watchlists Equities ETFs Futures Index Mutual Funds Analyst Rating Technical Events Smart Money Top Holdings Personal Finance Credit cards Balance Transfer Cards Cash-back Cards Rewards Cards Travel Cards Banking Personal Loans Student Loans Insurance Car Insurance Mortgages Taxes Videos Morning Brief Catalysts Wealth Market Domination Market Domination Overtime Asking for a Trend Opening Bid Stocks in Translation NEXT Lead This Way Good Buy or Goodbye? ETF Report … \n",
      "Back to classic\n",
      " Summary News Chart Community Statistics Historical Data Profile Financials Analysis Options Holders Sustainability NasdaqGS - Nasdaq Real Time Price • USD Apple Inc. (AAPL) Follow 191.94 +1.95 (+1.02%) As of 1:00 PM EDT. Market Open. 1D 5D -0.21% 3M 5.80% 6M 0.81% YTD -0.31% 1Y 9.41% 5Y 330.76% All 149,444.53% Key Events Mountain Line Candle Baseline Mountain Bar Advanced Chart Loading Chart for AAPL 9/21 12:03 PM DELL Date Close Open High Low Volume Previous Close 189.99 Open 189.51 Bid 191.88 x 100 Ask 191.98 x 100 Day's Range 189.51 - 192.25 52 Week Range 164.08 - 199.62 Volume 26,197,163 Avg. Volume 62,897,980 Market Cap (intraday) 2.943T Beta (5Y Monthly) 1.26 PE Ratio (TTM) 29.85 EPS (TTM) 6.43 Earnings Date Aug 1, 2024 - Aug 5, 2024 Forward Dividend & Yield 1.00 (0.53%) Ex-Dividend Date May 10, 2024 1y Target Est 187.39 Apple Inc. Overview Consumer Electronics / Technology Apple Inc. designs, manufactures, and markets smartphones, personal computers, tablets, wearables, and accessories worldwide. The company offers iPhone, a line of smartphones; Mac, a line of personal computers; iPad, a line of multi-purpose tablets; and wearables, home, and accessories comprising AirPods, Apple TV, Apple Watch, Beats products, and HomePod. It also provides AppleCare support and cloud services; and operates various platforms, including the App Store that allow customers to discover and download applications and digital content, such as books, music, video, games, and podcasts. In addition, the company offers various services, such as Apple Arcade, a game subscription service; Apple Fitness+, a personalized fitness service; Apple Music, which offers users a curated listening experience with on-demand radio stations; Apple News+, a subscription news and magazine service; Apple TV+, which offers exclusive original content; Apple Card, a co-branded credit card; and Apple Pay, a cashless payment service, as well as licenses its intellectual property. The company serves consumers, and small and mid-sized businesses; and the education, enterprise, and government markets. It distributes third-party applications for its products through the App Store. The company also sells its products through its retail and online stores, and direct sales force; and third-party cellular network carriers, wholesalers, retailers, and resellers. Apple Inc. was founded in 1976 and is headquartered in Cupertino, California. www.apple.com 150,000 Full Time Employees September 30 Fiscal Year Ends Technology Sector Consumer Electronics Industry More about Apple Inc. Recent News: AAPL View More All News Press Releases SEC Filings All SEC Filings Corporate Changes & Voting Matters Periodic Financial Reports Proxy Statements Tender Offer/Acquisition Reports Offering Registrations View More Performance Overview: AAPL Trailing total returns as of 5/29/2024, which may include dividends or other distributions. Benchmark is S&P 500 . YTD Return AAPL 0.05% S&P 500 10.70% 1-Year Return AAPL 9.99% S&P 500 25.56% 3-Year Return AAPL 56.66% S&P 500 25.60% 5-Year Return AAPL 346.34% S&P 500 88.42% Compare To: AAPL Compare Select to analyze similar companies using key performance metrics; select up to 4 stocks. AAPL Apple Inc. 191.94 +1.02% Mkt Cap 2.943T Industry Consumer Electronics SONY Sony Group Corporation 78.99 -1.10% Mkt Cap 96.828B Industry Consumer Electronics 5371.TWO Coretronic Corporation 112.00 -7.44% Mkt Cap TWD 43.79B Industry Consumer Electronics 1810.HK Xiaomi Corporation 17.780 -1.98% Mkt Cap HKD 443.202B Industry Consumer Electronics 005930.KS Samsung Electronics Co., Ltd. 75,200.00 -3.09% Mkt Cap KRW 499.246T Industry Consumer Electronics SONO Sonos, Inc. 16.15 -0.12% Mkt Cap 1.985B Industry Consumer Electronics KOSS Koss Corporation 4.6999 -6.00% Mkt Cap 43.497M Industry Consumer Electronics GPRO GoPro, Inc. 1.5300 -1.29% Mkt Cap 233.017M Industry Consumer Electronics 2498.TW HTC Corporation 43.30 -0.23% Mkt Cap TWD 36.052B Industry Consumer Electronics SSNLF Samsung Electronics Co., Ltd. 40.60 -29.70% Mkt Cap 301.846B Industry Consumer Electronics 6275.TWO Yen Sun Technology Corporation 68.30 -0.44% Mkt Cap TWD 5.224B Industry Consumer Electronics Statistics: AAPL View More Valuation Measures Current Quarterly Annual As of 5/28/2024 Market Cap 2.92T Enterprise Value 2.95T Trailing P/E 29.57 Forward P/E 28.99 PEG Ratio (5yr expected) 2.25 Price/Sales (ttm) 7.78 Price/Book (mrq) 39.30 Enterprise Value/Revenue 7.74 Enterprise Value/EBITDA 22.20 Financial Highlights Profitability and Income Statement Profit Margin 26.31% Return on Assets (ttm) 22.07% Return on Equity (ttm) 147.25% Revenue (ttm) 381.62B Net Income Avi to Common (ttm) 100.39B Diluted EPS (ttm) 6.43 Balance Sheet and Cash Flow Total Cash (mrq) 67.15B Total Debt/Equity (mrq) 140.97% Levered Free Cash Flow (ttm) 84.73B View More Research Analysis: AAPL View More View More Company Insights: AAPL Research Reports: AAPL View More View More People Also Watch AMZN Amazon.com, Inc. 183.15 +0.55% TSLA Tesla, Inc. 177.46 +0.40% GOOG Alphabet Inc. 178.12 +0.06% META Meta Platforms, Inc. 477.52 -0.50% MSFT Microsoft Corporation 430.69 +0.09% NFLX Netflix, Inc. 662.83 +2.13% NVDA NVIDIA Corporation 1,147.48 +0.74% DIS The Walt Disney Company 101.28 -1.13% AMD Advanced Micro Devices, Inc. 166.12 -3.20% INTC Intel Corporation 30.54 -1.67% JPM JPMorgan Chase & Co. 198.04 -0.73% BA The Boeing Company 173.52 -0.89% BABA Alibaba Group Holding Limited 79.20 -1.72% F Ford Motor Company 11.60 -0.68% BAC Bank of America Corporation 38.68 -1.62% KO The Coca-Cola Company 61.63 -0.31% Copyright © 2024 Yahoo. All rights reserved. POPULAR QUOTES Dow Jones S&P 500 DAX Index Nvidia Tesla DJT EXPLORE MORE Mortgages Credit Cards Sectors Crypto Heatmap Biden Economy Financial News ABOUT Data Disclaimer Help Suggestions Sitemap What's New Terms and Privacy Policy Your Privacy Choices CA Privacy Notice About Our Ads U.S. markets close in 3h Customize Your Dock Markets US Europe Asia Rates Commodities Currencies Cryptocurrencies S&P 500 5,280.34 -25.70 (-0.48%) Dow 30 38,505.32 -347.54 (-0.89%) Nasdaq 16,983.83 -36.05 (-0.21%) Russell 2000 2,040.22 -26.63 (-1.29%) Crude Oil 79.28 -0.55 (-0.69%) Gold 2,340.10 -16.40 (-0.70%) My Portfolios My Portfolios Sign in to create a watchlist Sign in Trending Tickers CHWY Chewy, Inc. 21.61 +4.70 (+27.79%) AAL American Airlines Group Inc. 11.51 -1.93 (-14.37%) MRO Marathon Oil Corporation 28.56 +2.10 (+7.96%) ASTS AST SpaceMobile, Inc. 7.92 +2.59 (+48.59%) NFLX Netflix, Inc. 662.83 +13.83 (+2.13%) Top Economic Events Terms and Privacy Policy Your Privacy Choices CA Privacy Notice Ad Terms Suggestions\n",
      "\u001b[00m\n"
     ]
    }
   ],
   "source": [
    "### this execution will take some time to run\n",
    "result = financial_trading_crew.kickoff(inputs=financial_trading_inputs)"
   ]
  },
  {
   "cell_type": "markdown",
   "metadata": {},
   "source": [
    "- Display the final result as Markdown."
   ]
  },
  {
   "cell_type": "code",
   "execution_count": null,
   "metadata": {
    "height": 47
   },
   "outputs": [],
   "source": [
    "from IPython.display import Markdown\n",
    "Markdown(result)"
   ]
  },
  {
   "cell_type": "code",
   "execution_count": null,
   "metadata": {
    "height": 30
   },
   "outputs": [],
   "source": []
  },
  {
   "cell_type": "code",
   "execution_count": null,
   "metadata": {
    "height": 30
   },
   "outputs": [],
   "source": []
  }
 ],
 "metadata": {
  "kernelspec": {
   "display_name": "Python 3 (ipykernel)",
   "language": "python",
   "name": "python3"
  },
  "language_info": {
   "codemirror_mode": {
    "name": "ipython",
    "version": 3
   },
   "file_extension": ".py",
   "mimetype": "text/x-python",
   "name": "python",
   "nbconvert_exporter": "python",
   "pygments_lexer": "ipython3",
   "version": "3.11.9"
  }
 },
 "nbformat": 4,
 "nbformat_minor": 4
}

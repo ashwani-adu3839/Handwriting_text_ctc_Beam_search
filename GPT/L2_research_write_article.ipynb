{
 "cells": [
  {
   "cell_type": "markdown",
   "metadata": {},
   "source": [
    "You can download the `requirements.txt` for this course from the workspace of this lab. `File --> Open...`"
   ]
  },
  {
   "cell_type": "markdown",
   "metadata": {},
   "source": [
    "# L2: Create Agents to Research and Write an Article\n",
    "\n",
    "In this lesson, you will be introduced to the foundational concepts of multi-agent systems and get an overview of the crewAI framework."
   ]
  },
  {
   "cell_type": "markdown",
   "metadata": {},
   "source": [
    "The libraries are already installed in the classroom. If you're running this notebook on your own machine, you can install the following:\n",
    "```Python\n",
    "!pip install crewai==0.28.8 crewai_tools==0.1.6 langchain_community==0.0.29\n",
    "```"
   ]
  },
  {
   "cell_type": "code",
   "execution_count": 1,
   "metadata": {
    "height": 64
   },
   "outputs": [],
   "source": [
    "# Warning control\n",
    "import warnings\n",
    "warnings.filterwarnings('ignore')"
   ]
  },
  {
   "cell_type": "markdown",
   "metadata": {},
   "source": [
    "- Import from the crewAI libray."
   ]
  },
  {
   "cell_type": "code",
   "execution_count": 2,
   "metadata": {
    "height": 30
   },
   "outputs": [],
   "source": [
    "from crewai import Agent, Task, Crew"
   ]
  },
  {
   "cell_type": "markdown",
   "metadata": {},
   "source": [
    "- As a LLM for your agents, you'll be using OpenAI's `gpt-3.5-turbo`.\n",
    "\n",
    "**Optional Note:** crewAI also allow other popular models to be used as a LLM for your Agents. You can see some of the examples at the [bottom of the notebook](#1)."
   ]
  },
  {
   "cell_type": "code",
   "execution_count": 3,
   "metadata": {
    "height": 98
   },
   "outputs": [],
   "source": [
    "import os\n",
    "from utils import get_openai_api_key\n",
    "\n",
    "openai_api_key = get_openai_api_key()\n",
    "os.environ[\"OPENAI_MODEL_NAME\"] = 'gpt-3.5-turbo'"
   ]
  },
  {
   "cell_type": "markdown",
   "metadata": {},
   "source": [
    "## Creating Agents\n",
    "\n",
    "- Define your Agents, and provide them a `role`, `goal` and `backstory`.\n",
    "- It has been seen that LLMs perform better when they are role playing."
   ]
  },
  {
   "cell_type": "markdown",
   "metadata": {},
   "source": [
    "### Agent: Planner\n",
    "\n",
    "**Note**: The benefit of using _multiple strings_ :\n",
    "```Python\n",
    "varname = \"line 1 of text\"\n",
    "          \"line 2 of text\"\n",
    "```\n",
    "\n",
    "versus the _triple quote docstring_:\n",
    "```Python\n",
    "varname = \"\"\"line 1 of text\n",
    "             line 2 of text\n",
    "          \"\"\"\n",
    "```\n",
    "is that it can avoid adding those whitespaces and newline characters, making it better formatted to be passed to the LLM."
   ]
  },
  {
   "cell_type": "code",
   "execution_count": 4,
   "metadata": {
    "height": 249
   },
   "outputs": [],
   "source": [
    "planner = Agent(\n",
    "    role=\"Content Planner\",\n",
    "    goal=\"Plan engaging and factually accurate content on {topic}\",\n",
    "    backstory=\"You're working on planning a blog article \"\n",
    "              \"about the topic: {topic}.\"\n",
    "              \"You collect information that helps the \"\n",
    "              \"audience learn something \"\n",
    "              \"and make informed decisions. \"\n",
    "              \"Your work is the basis for \"\n",
    "              \"the Content Writer to write an article on this topic.\",\n",
    "    allow_delegation=False,\n",
    "\tverbose=True\n",
    ")"
   ]
  },
  {
   "cell_type": "markdown",
   "metadata": {},
   "source": [
    "### Agent: Writer"
   ]
  },
  {
   "cell_type": "code",
   "execution_count": 5,
   "metadata": {
    "height": 385
   },
   "outputs": [],
   "source": [
    "writer = Agent(\n",
    "    role=\"Content Writer\",\n",
    "    goal=\"Write insightful and factually accurate \"\n",
    "         \"opinion piece about the topic: {topic}\",\n",
    "    backstory=\"You're working on a writing \"\n",
    "              \"a new opinion piece about the topic: {topic}. \"\n",
    "              \"You base your writing on the work of \"\n",
    "              \"the Content Planner, who provides an outline \"\n",
    "              \"and relevant context about the topic. \"\n",
    "              \"You follow the main objectives and \"\n",
    "              \"direction of the outline, \"\n",
    "              \"as provide by the Content Planner. \"\n",
    "              \"You also provide objective and impartial insights \"\n",
    "              \"and back them up with information \"\n",
    "              \"provide by the Content Planner. \"\n",
    "              \"You acknowledge in your opinion piece \"\n",
    "              \"when your statements are opinions \"\n",
    "              \"as opposed to objective statements.\",\n",
    "    allow_delegation=False,\n",
    "    verbose=True\n",
    ")"
   ]
  },
  {
   "cell_type": "markdown",
   "metadata": {},
   "source": [
    "### Agent: Editor"
   ]
  },
  {
   "cell_type": "code",
   "execution_count": 6,
   "metadata": {
    "height": 283
   },
   "outputs": [],
   "source": [
    "editor = Agent(\n",
    "    role=\"Editor\",\n",
    "    goal=\"Edit a given blog post to align with \"\n",
    "         \"the writing style of the organization. \",\n",
    "    backstory=\"You are an editor who receives a blog post \"\n",
    "              \"from the Content Writer. \"\n",
    "              \"Your goal is to review the blog post \"\n",
    "              \"to ensure that it follows journalistic best practices,\"\n",
    "              \"provides balanced viewpoints \"\n",
    "              \"when providing opinions or assertions, \"\n",
    "              \"and also avoids major controversial topics \"\n",
    "              \"or opinions when possible.\",\n",
    "    allow_delegation=False,\n",
    "    verbose=True\n",
    ")"
   ]
  },
  {
   "cell_type": "markdown",
   "metadata": {},
   "source": [
    "## Creating Tasks\n",
    "\n",
    "- Define your Tasks, and provide them a `description`, `expected_output` and `agent`."
   ]
  },
  {
   "cell_type": "markdown",
   "metadata": {},
   "source": [
    "### Task: Plan"
   ]
  },
  {
   "cell_type": "code",
   "execution_count": 7,
   "metadata": {
    "height": 283
   },
   "outputs": [],
   "source": [
    "plan = Task(\n",
    "    description=(\n",
    "        \"1. Prioritize the latest trends, key players, \"\n",
    "            \"and noteworthy news on {topic}.\\n\"\n",
    "        \"2. Identify the target audience, considering \"\n",
    "            \"their interests and pain points.\\n\"\n",
    "        \"3. Develop a detailed content outline including \"\n",
    "            \"an introduction, key points, and a call to action.\\n\"\n",
    "        \"4. Include SEO keywords and relevant data or sources.\"\n",
    "    ),\n",
    "    expected_output=\"A comprehensive content plan document \"\n",
    "        \"with an outline, audience analysis, \"\n",
    "        \"SEO keywords, and resources.\",\n",
    "    agent=planner,\n",
    ")"
   ]
  },
  {
   "cell_type": "markdown",
   "metadata": {},
   "source": [
    "### Task: Write"
   ]
  },
  {
   "cell_type": "code",
   "execution_count": 8,
   "metadata": {
    "height": 319
   },
   "outputs": [],
   "source": [
    "write = Task(\n",
    "    description=(\n",
    "        \"1. Use the content plan to craft a compelling \"\n",
    "            \"blog post on {topic}.\\n\"\n",
    "        \"2. Incorporate SEO keywords naturally.\\n\"\n",
    "\t\t\"3. Sections/Subtitles are properly named \"\n",
    "            \"in an engaging manner.\\n\"\n",
    "        \"4. Ensure the post is structured with an \"\n",
    "            \"engaging introduction, insightful body, \"\n",
    "            \"and a summarizing conclusion.\\n\"\n",
    "        \"5. Proofread for grammatical errors and \"\n",
    "            \"alignment with the brand's voice.\\n\"\n",
    "    ),\n",
    "    expected_output=\"A well-written blog post \"\n",
    "        \"in markdown format, ready for publication, \"\n",
    "        \"each section should have 2 or 3 paragraphs.\",\n",
    "    agent=writer,\n",
    ")"
   ]
  },
  {
   "cell_type": "markdown",
   "metadata": {},
   "source": [
    "### Task: Edit"
   ]
  },
  {
   "cell_type": "code",
   "execution_count": 9,
   "metadata": {
    "height": 181
   },
   "outputs": [],
   "source": [
    "edit = Task(\n",
    "    description=(\"Proofread the given blog post for \"\n",
    "                 \"grammatical errors and \"\n",
    "                 \"alignment with the brand's voice.\"),\n",
    "    expected_output=\"A well-written blog post in markdown format, \"\n",
    "                    \"ready for publication, \"\n",
    "                    \"each section should have 2 or 3 paragraphs.\",\n",
    "    agent=editor\n",
    ")"
   ]
  },
  {
   "cell_type": "markdown",
   "metadata": {},
   "source": [
    "## Creating the Crew\n",
    "\n",
    "- Create your crew of Agents\n",
    "- Pass the tasks to be performed by those agents.\n",
    "    - **Note**: *For this simple example*, the tasks will be performed sequentially (i.e they are dependent on each other), so the _order_ of the task in the list _matters_.\n",
    "- `verbose=2` allows you to see all the logs of the execution. "
   ]
  },
  {
   "cell_type": "code",
   "execution_count": 10,
   "metadata": {
    "height": 98
   },
   "outputs": [],
   "source": [
    "crew = Crew(\n",
    "    agents=[planner, writer, editor],\n",
    "    tasks=[plan, write, edit],\n",
    "    verbose=2\n",
    ")"
   ]
  },
  {
   "cell_type": "markdown",
   "metadata": {},
   "source": [
    "## Running the Crew"
   ]
  },
  {
   "cell_type": "markdown",
   "metadata": {},
   "source": [
    "**Note**: LLMs can provide different outputs for they same input, so what you get might be different than what you see in the video."
   ]
  },
  {
   "cell_type": "code",
   "execution_count": 11,
   "metadata": {
    "height": 45
   },
   "outputs": [
    {
     "name": "stdout",
     "output_type": "stream",
     "text": [
      "\u001b[1m\u001b[95m [DEBUG]: == Working Agent: Content Planner\u001b[00m\n",
      "\u001b[1m\u001b[95m [INFO]: == Starting Task: 1. Prioritize the latest trends, key players, and noteworthy news on Artificial Intelligence.\n",
      "2. Identify the target audience, considering their interests and pain points.\n",
      "3. Develop a detailed content outline including an introduction, key points, and a call to action.\n",
      "4. Include SEO keywords and relevant data or sources.\u001b[00m\n",
      "\n",
      "\n",
      "\u001b[1m> Entering new CrewAgentExecutor chain...\u001b[0m\n",
      "\u001b[32;1m\u001b[1;3mI now can give a great answer\n",
      "\n",
      "Final Answer: \n",
      "\n",
      "Content Plan Document\n",
      "\n",
      "Title: The Future of Artificial Intelligence: Latest Trends and Key Players\n",
      "\n",
      "Outline:\n",
      "\n",
      "I. Introduction\n",
      "- Definition of Artificial Intelligence (AI)\n",
      "- Importance and impact of AI in various industries\n",
      "- Brief overview of the latest trends and key players in the AI industry\n",
      "\n",
      "II. Latest Trends in Artificial Intelligence\n",
      "A. Machine Learning\n",
      "- Overview of machine learning algorithms and applications\n",
      "- Latest advancements in machine learning technology\n",
      "- Case studies of successful machine learning projects\n",
      "\n",
      "B. Natural Language Processing (NLP)\n",
      "- Explanation of NLP and its significance in AI\n",
      "- Recent developments in NLP technology\n",
      "- Use cases of NLP in real-world applications\n",
      "\n",
      "C. Computer Vision\n",
      "- Introduction to computer vision and its applications\n",
      "- Recent innovations in computer vision systems\n",
      "- Examples of computer vision technology in action\n",
      "\n",
      "III. Key Players in the AI Industry\n",
      "A. Tech Giants\n",
      "- Overview of leading tech companies investing in AI\n",
      "- Analysis of their AI strategies and initiatives\n",
      "- Impact of tech giants on the development of AI technology\n",
      "\n",
      "B. Startups and Innovators\n",
      "- Profiles of emerging AI startups making waves in the industry\n",
      "- Discussion of their unique approaches and contributions to AI\n",
      "- Potential disruptors in the AI market\n",
      "\n",
      "IV. Target Audience Analysis\n",
      "- Tech enthusiasts and professionals interested in AI\n",
      "- Business leaders looking to implement AI solutions\n",
      "- Students and researchers studying AI technology\n",
      "- Anyone curious about the future of artificial intelligence\n",
      "\n",
      "V. SEO Keywords\n",
      "- Artificial Intelligence trends\n",
      "- Key players in AI industry\n",
      "- Latest AI news\n",
      "- Machine learning advancements\n",
      "- NLP technology updates\n",
      "- Computer vision innovations\n",
      "\n",
      "VI. Resources\n",
      "- Industry reports and whitepapers on AI trends\n",
      "- Interviews with AI experts and thought leaders\n",
      "- Case studies of successful AI implementations\n",
      "- Research papers on machine learning, NLP, and computer vision\n",
      "\n",
      "Call to Action: Stay informed about the latest trends and developments in artificial intelligence by subscribing to our newsletter for regular updates and insights.\n",
      "\n",
      "This comprehensive content plan covers the latest trends, key players, and noteworthy news in the field of artificial intelligence. By targeting a diverse audience and incorporating relevant SEO keywords and credible resources, the blog article will provide valuable information and insights for readers interested in AI technology.\u001b[0m\n",
      "\n",
      "\u001b[1m> Finished chain.\u001b[0m\n",
      "\u001b[1m\u001b[92m [DEBUG]: == [Content Planner] Task output: Content Plan Document\n",
      "\n",
      "Title: The Future of Artificial Intelligence: Latest Trends and Key Players\n",
      "\n",
      "Outline:\n",
      "\n",
      "I. Introduction\n",
      "- Definition of Artificial Intelligence (AI)\n",
      "- Importance and impact of AI in various industries\n",
      "- Brief overview of the latest trends and key players in the AI industry\n",
      "\n",
      "II. Latest Trends in Artificial Intelligence\n",
      "A. Machine Learning\n",
      "- Overview of machine learning algorithms and applications\n",
      "- Latest advancements in machine learning technology\n",
      "- Case studies of successful machine learning projects\n",
      "\n",
      "B. Natural Language Processing (NLP)\n",
      "- Explanation of NLP and its significance in AI\n",
      "- Recent developments in NLP technology\n",
      "- Use cases of NLP in real-world applications\n",
      "\n",
      "C. Computer Vision\n",
      "- Introduction to computer vision and its applications\n",
      "- Recent innovations in computer vision systems\n",
      "- Examples of computer vision technology in action\n",
      "\n",
      "III. Key Players in the AI Industry\n",
      "A. Tech Giants\n",
      "- Overview of leading tech companies investing in AI\n",
      "- Analysis of their AI strategies and initiatives\n",
      "- Impact of tech giants on the development of AI technology\n",
      "\n",
      "B. Startups and Innovators\n",
      "- Profiles of emerging AI startups making waves in the industry\n",
      "- Discussion of their unique approaches and contributions to AI\n",
      "- Potential disruptors in the AI market\n",
      "\n",
      "IV. Target Audience Analysis\n",
      "- Tech enthusiasts and professionals interested in AI\n",
      "- Business leaders looking to implement AI solutions\n",
      "- Students and researchers studying AI technology\n",
      "- Anyone curious about the future of artificial intelligence\n",
      "\n",
      "V. SEO Keywords\n",
      "- Artificial Intelligence trends\n",
      "- Key players in AI industry\n",
      "- Latest AI news\n",
      "- Machine learning advancements\n",
      "- NLP technology updates\n",
      "- Computer vision innovations\n",
      "\n",
      "VI. Resources\n",
      "- Industry reports and whitepapers on AI trends\n",
      "- Interviews with AI experts and thought leaders\n",
      "- Case studies of successful AI implementations\n",
      "- Research papers on machine learning, NLP, and computer vision\n",
      "\n",
      "Call to Action: Stay informed about the latest trends and developments in artificial intelligence by subscribing to our newsletter for regular updates and insights.\n",
      "\n",
      "This comprehensive content plan covers the latest trends, key players, and noteworthy news in the field of artificial intelligence. By targeting a diverse audience and incorporating relevant SEO keywords and credible resources, the blog article will provide valuable information and insights for readers interested in AI technology.\n",
      "\n",
      "\u001b[00m\n",
      "\u001b[1m\u001b[95m [DEBUG]: == Working Agent: Content Writer\u001b[00m\n",
      "\u001b[1m\u001b[95m [INFO]: == Starting Task: 1. Use the content plan to craft a compelling blog post on Artificial Intelligence.\n",
      "2. Incorporate SEO keywords naturally.\n",
      "3. Sections/Subtitles are properly named in an engaging manner.\n",
      "4. Ensure the post is structured with an engaging introduction, insightful body, and a summarizing conclusion.\n",
      "5. Proofread for grammatical errors and alignment with the brand's voice.\n",
      "\u001b[00m\n",
      "\n",
      "\n",
      "\u001b[1m> Entering new CrewAgentExecutor chain...\u001b[0m\n",
      "\u001b[32;1m\u001b[1;3mI now can give a great answer\n",
      "\n",
      "Final Answer:\n",
      "\n",
      "# The Future of Artificial Intelligence: Latest Trends and Key Players\n",
      "\n",
      "## Introduction\n",
      "Artificial Intelligence (AI) has become a driving force in transforming various industries, revolutionizing the way we work and interact with technology. Defined as the simulation of human intelligence processes by machines, AI has permeated our daily lives, from personalized recommendations on streaming services to autonomous vehicles on our roads. The importance and impact of AI cannot be understated, with its ability to streamline processes, improve decision-making, and enhance overall efficiency. In this blog post, we will delve into the latest trends and key players shaping the AI landscape today.\n",
      "\n",
      "## Latest Trends in Artificial Intelligence\n",
      "\n",
      "### Machine Learning\n",
      "Machine Learning, a subset of AI, focuses on the development of algorithms that enable machines to learn from and make predictions based on data. Recent advancements in machine learning technology have propelled the field forward, with breakthroughs in deep learning, reinforcement learning, and neural networks. Organizations across various sectors are leveraging machine learning to optimize operations, personalize user experiences, and drive innovation. Case studies showcasing successful machine learning projects highlight the transformative power of this technology in areas such as healthcare, finance, and marketing.\n",
      "\n",
      "### Natural Language Processing (NLP)\n",
      "Natural Language Processing (NLP) enables machines to understand, interpret, and generate human language. Recent developments in NLP technology, fueled by advancements in deep learning and neural network models, have enhanced the capabilities of AI-powered language processing systems. Use cases of NLP in real-world applications include sentiment analysis, language translation, and chatbot interactions, showcasing the versatility and potential impact of this technology in enhancing communication and user experiences.\n",
      "\n",
      "### Computer Vision\n",
      "Computer Vision focuses on enabling machines to interpret and analyze visual information from the world around them. Recent innovations in computer vision systems, driven by advancements in image recognition, object detection, and video analysis, have revolutionized industries such as healthcare, retail, and security. Examples of computer vision technology in action include facial recognition systems, autonomous drones, and augmented reality applications, demonstrating the vast potential of visual data processing in various domains.\n",
      "\n",
      "## Key Players in the AI Industry\n",
      "\n",
      "### Tech Giants\n",
      "Leading tech companies such as Google, Amazon, Microsoft, and IBM are at the forefront of AI innovation, investing heavily in research and development to push the boundaries of artificial intelligence. These tech giants have developed sophisticated AI solutions, from virtual assistants to autonomous vehicles, and continue to shape the industry with their AI strategies and initiatives. Their impact on the development of AI technology is profound, influencing trends, setting standards, and driving the adoption of AI across sectors.\n",
      "\n",
      "### Startups and Innovators\n",
      "Emerging AI startups are making waves in the industry, bringing fresh perspectives and innovative solutions to the table. These startups, with their agility and creativity, are disrupting traditional approaches to AI and driving rapid advancements in the field. Their unique contributions to AI technology, whether in healthcare, finance, or cybersecurity, have the potential to reshape industries and challenge established players in the market. By fostering a culture of innovation and experimentation, these startups are paving the way for the future of artificial intelligence.\n",
      "\n",
      "## Conclusion\n",
      "As artificial intelligence continues to evolve and expand its reach, staying informed about the latest trends and key players in the industry is essential for tech enthusiasts, business leaders, students, and anyone curious about the future of AI. By exploring the latest advancements in machine learning, NLP, and computer vision, and highlighting the contributions of tech giants and startups in shaping the AI landscape, we gain valuable insights into the transformative power of AI technology. The future of artificial intelligence is bright, promising new possibilities and opportunities for innovation and growth.\n",
      "\n",
      "*Stay informed about the latest trends and developments in artificial intelligence by subscribing to our newsletter for regular updates and insights.*\n",
      "\n",
      "This blog post provides a comprehensive overview of the latest trends and key players in the field of artificial intelligence, offering valuable insights and perspectives for readers interested in AI technology. By incorporating relevant SEO keywords and credible resources, the post aims to engage a diverse audience and provide a deeper understanding of the dynamic and evolving AI landscape.\u001b[0m\n",
      "\n",
      "\u001b[1m> Finished chain.\u001b[0m\n",
      "\u001b[1m\u001b[92m [DEBUG]: == [Content Writer] Task output: # The Future of Artificial Intelligence: Latest Trends and Key Players\n",
      "\n",
      "## Introduction\n",
      "Artificial Intelligence (AI) has become a driving force in transforming various industries, revolutionizing the way we work and interact with technology. Defined as the simulation of human intelligence processes by machines, AI has permeated our daily lives, from personalized recommendations on streaming services to autonomous vehicles on our roads. The importance and impact of AI cannot be understated, with its ability to streamline processes, improve decision-making, and enhance overall efficiency. In this blog post, we will delve into the latest trends and key players shaping the AI landscape today.\n",
      "\n",
      "## Latest Trends in Artificial Intelligence\n",
      "\n",
      "### Machine Learning\n",
      "Machine Learning, a subset of AI, focuses on the development of algorithms that enable machines to learn from and make predictions based on data. Recent advancements in machine learning technology have propelled the field forward, with breakthroughs in deep learning, reinforcement learning, and neural networks. Organizations across various sectors are leveraging machine learning to optimize operations, personalize user experiences, and drive innovation. Case studies showcasing successful machine learning projects highlight the transformative power of this technology in areas such as healthcare, finance, and marketing.\n",
      "\n",
      "### Natural Language Processing (NLP)\n",
      "Natural Language Processing (NLP) enables machines to understand, interpret, and generate human language. Recent developments in NLP technology, fueled by advancements in deep learning and neural network models, have enhanced the capabilities of AI-powered language processing systems. Use cases of NLP in real-world applications include sentiment analysis, language translation, and chatbot interactions, showcasing the versatility and potential impact of this technology in enhancing communication and user experiences.\n",
      "\n",
      "### Computer Vision\n",
      "Computer Vision focuses on enabling machines to interpret and analyze visual information from the world around them. Recent innovations in computer vision systems, driven by advancements in image recognition, object detection, and video analysis, have revolutionized industries such as healthcare, retail, and security. Examples of computer vision technology in action include facial recognition systems, autonomous drones, and augmented reality applications, demonstrating the vast potential of visual data processing in various domains.\n",
      "\n",
      "## Key Players in the AI Industry\n",
      "\n",
      "### Tech Giants\n",
      "Leading tech companies such as Google, Amazon, Microsoft, and IBM are at the forefront of AI innovation, investing heavily in research and development to push the boundaries of artificial intelligence. These tech giants have developed sophisticated AI solutions, from virtual assistants to autonomous vehicles, and continue to shape the industry with their AI strategies and initiatives. Their impact on the development of AI technology is profound, influencing trends, setting standards, and driving the adoption of AI across sectors.\n",
      "\n",
      "### Startups and Innovators\n",
      "Emerging AI startups are making waves in the industry, bringing fresh perspectives and innovative solutions to the table. These startups, with their agility and creativity, are disrupting traditional approaches to AI and driving rapid advancements in the field. Their unique contributions to AI technology, whether in healthcare, finance, or cybersecurity, have the potential to reshape industries and challenge established players in the market. By fostering a culture of innovation and experimentation, these startups are paving the way for the future of artificial intelligence.\n",
      "\n",
      "## Conclusion\n",
      "As artificial intelligence continues to evolve and expand its reach, staying informed about the latest trends and key players in the industry is essential for tech enthusiasts, business leaders, students, and anyone curious about the future of AI. By exploring the latest advancements in machine learning, NLP, and computer vision, and highlighting the contributions of tech giants and startups in shaping the AI landscape, we gain valuable insights into the transformative power of AI technology. The future of artificial intelligence is bright, promising new possibilities and opportunities for innovation and growth.\n",
      "\n",
      "*Stay informed about the latest trends and developments in artificial intelligence by subscribing to our newsletter for regular updates and insights.*\n",
      "\n",
      "This blog post provides a comprehensive overview of the latest trends and key players in the field of artificial intelligence, offering valuable insights and perspectives for readers interested in AI technology. By incorporating relevant SEO keywords and credible resources, the post aims to engage a diverse audience and provide a deeper understanding of the dynamic and evolving AI landscape.\n",
      "\n",
      "\u001b[00m\n",
      "\u001b[1m\u001b[95m [DEBUG]: == Working Agent: Editor\u001b[00m\n",
      "\u001b[1m\u001b[95m [INFO]: == Starting Task: Proofread the given blog post for grammatical errors and alignment with the brand's voice.\u001b[00m\n",
      "\n",
      "\n",
      "\u001b[1m> Entering new CrewAgentExecutor chain...\u001b[0m\n"
     ]
    },
    {
     "name": "stdout",
     "output_type": "stream",
     "text": [
      "\u001b[32;1m\u001b[1;3mI now can give a great answer\n",
      "\n",
      "Final Answer:\n",
      "\n",
      "# The Future of Artificial Intelligence: Latest Trends and Key Players\n",
      "\n",
      "## Introduction\n",
      "Artificial Intelligence (AI) has become a driving force in transforming various industries, revolutionizing the way we work and interact with technology. Defined as the simulation of human intelligence processes by machines, AI has permeated our daily lives, from personalized recommendations on streaming services to autonomous vehicles on our roads. The importance and impact of AI cannot be understated, with its ability to streamline processes, improve decision-making, and enhance overall efficiency. In this blog post, we will delve into the latest trends and key players shaping the AI landscape today.\n",
      "\n",
      "## Latest Trends in Artificial Intelligence\n",
      "\n",
      "### Machine Learning\n",
      "Machine Learning, a subset of AI, focuses on the development of algorithms that enable machines to learn from and make predictions based on data. Recent advancements in machine learning technology have propelled the field forward, with breakthroughs in deep learning, reinforcement learning, and neural networks. Organizations across various sectors are leveraging machine learning to optimize operations, personalize user experiences, and drive innovation. Case studies showcasing successful machine learning projects highlight the transformative power of this technology in areas such as healthcare, finance, and marketing.\n",
      "\n",
      "### Natural Language Processing (NLP)\n",
      "Natural Language Processing (NLP) enables machines to understand, interpret, and generate human language. Recent developments in NLP technology, fueled by advancements in deep learning and neural network models, have enhanced the capabilities of AI-powered language processing systems. Use cases of NLP in real-world applications include sentiment analysis, language translation, and chatbot interactions, showcasing the versatility and potential impact of this technology in enhancing communication and user experiences.\n",
      "\n",
      "### Computer Vision\n",
      "Computer Vision focuses on enabling machines to interpret and analyze visual information from the world around them. Recent innovations in computer vision systems, driven by advancements in image recognition, object detection, and video analysis, have revolutionized industries such as healthcare, retail, and security. Examples of computer vision technology in action include facial recognition systems, autonomous drones, and augmented reality applications, demonstrating the vast potential of visual data processing in various domains.\n",
      "\n",
      "## Key Players in the AI Industry\n",
      "\n",
      "### Tech Giants\n",
      "Leading tech companies such as Google, Amazon, Microsoft, and IBM are at the forefront of AI innovation, investing heavily in research and development to push the boundaries of artificial intelligence. These tech giants have developed sophisticated AI solutions, from virtual assistants to autonomous vehicles, and continue to shape the industry with their AI strategies and initiatives. Their impact on the development of AI technology is profound, influencing trends, setting standards, and driving the adoption of AI across sectors.\n",
      "\n",
      "### Startups and Innovators\n",
      "Emerging AI startups are making waves in the industry, bringing fresh perspectives and innovative solutions to the table. These startups, with their agility and creativity, are disrupting traditional approaches to AI and driving rapid advancements in the field. Their unique contributions to AI technology, whether in healthcare, finance, or cybersecurity, have the potential to reshape industries and challenge established players in the market. By fostering a culture of innovation and experimentation, these startups are paving the way for the future of artificial intelligence.\n",
      "\n",
      "## Conclusion\n",
      "As artificial intelligence continues to evolve and expand its reach, staying informed about the latest trends and key players in the industry is essential for tech enthusiasts, business leaders, students, and anyone curious about the future of AI. By exploring the latest advancements in machine learning, NLP, and computer vision, and highlighting the contributions of tech giants and startups in shaping the AI landscape, we gain valuable insights into the transformative power of AI technology. The future of artificial intelligence is bright, promising new possibilities and opportunities for innovation and growth.\n",
      "\n",
      "*Stay informed about the latest trends and developments in artificial intelligence by subscribing to our newsletter for regular updates and insights.*\n",
      "\n",
      "This blog post provides a comprehensive overview of the latest trends and key players in the field of artificial intelligence, offering valuable insights and perspectives for readers interested in AI technology. By incorporating relevant SEO keywords and credible resources, the post aims to engage a diverse audience and provide a deeper understanding of the dynamic and evolving AI landscape.\u001b[0m\n",
      "\n",
      "\u001b[1m> Finished chain.\u001b[0m\n",
      "\u001b[1m\u001b[92m [DEBUG]: == [Editor] Task output: # The Future of Artificial Intelligence: Latest Trends and Key Players\n",
      "\n",
      "## Introduction\n",
      "Artificial Intelligence (AI) has become a driving force in transforming various industries, revolutionizing the way we work and interact with technology. Defined as the simulation of human intelligence processes by machines, AI has permeated our daily lives, from personalized recommendations on streaming services to autonomous vehicles on our roads. The importance and impact of AI cannot be understated, with its ability to streamline processes, improve decision-making, and enhance overall efficiency. In this blog post, we will delve into the latest trends and key players shaping the AI landscape today.\n",
      "\n",
      "## Latest Trends in Artificial Intelligence\n",
      "\n",
      "### Machine Learning\n",
      "Machine Learning, a subset of AI, focuses on the development of algorithms that enable machines to learn from and make predictions based on data. Recent advancements in machine learning technology have propelled the field forward, with breakthroughs in deep learning, reinforcement learning, and neural networks. Organizations across various sectors are leveraging machine learning to optimize operations, personalize user experiences, and drive innovation. Case studies showcasing successful machine learning projects highlight the transformative power of this technology in areas such as healthcare, finance, and marketing.\n",
      "\n",
      "### Natural Language Processing (NLP)\n",
      "Natural Language Processing (NLP) enables machines to understand, interpret, and generate human language. Recent developments in NLP technology, fueled by advancements in deep learning and neural network models, have enhanced the capabilities of AI-powered language processing systems. Use cases of NLP in real-world applications include sentiment analysis, language translation, and chatbot interactions, showcasing the versatility and potential impact of this technology in enhancing communication and user experiences.\n",
      "\n",
      "### Computer Vision\n",
      "Computer Vision focuses on enabling machines to interpret and analyze visual information from the world around them. Recent innovations in computer vision systems, driven by advancements in image recognition, object detection, and video analysis, have revolutionized industries such as healthcare, retail, and security. Examples of computer vision technology in action include facial recognition systems, autonomous drones, and augmented reality applications, demonstrating the vast potential of visual data processing in various domains.\n",
      "\n",
      "## Key Players in the AI Industry\n",
      "\n",
      "### Tech Giants\n",
      "Leading tech companies such as Google, Amazon, Microsoft, and IBM are at the forefront of AI innovation, investing heavily in research and development to push the boundaries of artificial intelligence. These tech giants have developed sophisticated AI solutions, from virtual assistants to autonomous vehicles, and continue to shape the industry with their AI strategies and initiatives. Their impact on the development of AI technology is profound, influencing trends, setting standards, and driving the adoption of AI across sectors.\n",
      "\n",
      "### Startups and Innovators\n",
      "Emerging AI startups are making waves in the industry, bringing fresh perspectives and innovative solutions to the table. These startups, with their agility and creativity, are disrupting traditional approaches to AI and driving rapid advancements in the field. Their unique contributions to AI technology, whether in healthcare, finance, or cybersecurity, have the potential to reshape industries and challenge established players in the market. By fostering a culture of innovation and experimentation, these startups are paving the way for the future of artificial intelligence.\n",
      "\n",
      "## Conclusion\n",
      "As artificial intelligence continues to evolve and expand its reach, staying informed about the latest trends and key players in the industry is essential for tech enthusiasts, business leaders, students, and anyone curious about the future of AI. By exploring the latest advancements in machine learning, NLP, and computer vision, and highlighting the contributions of tech giants and startups in shaping the AI landscape, we gain valuable insights into the transformative power of AI technology. The future of artificial intelligence is bright, promising new possibilities and opportunities for innovation and growth.\n",
      "\n",
      "*Stay informed about the latest trends and developments in artificial intelligence by subscribing to our newsletter for regular updates and insights.*\n",
      "\n",
      "This blog post provides a comprehensive overview of the latest trends and key players in the field of artificial intelligence, offering valuable insights and perspectives for readers interested in AI technology. By incorporating relevant SEO keywords and credible resources, the post aims to engage a diverse audience and provide a deeper understanding of the dynamic and evolving AI landscape.\n",
      "\n",
      "\u001b[00m\n"
     ]
    }
   ],
   "source": [
    "result = crew.kickoff(inputs={\"topic\": \"Artificial Intelligence\"})"
   ]
  },
  {
   "cell_type": "markdown",
   "metadata": {},
   "source": [
    "- Display the results of your execution as markdown in the notebook."
   ]
  },
  {
   "cell_type": "code",
   "execution_count": 12,
   "metadata": {
    "height": 47
   },
   "outputs": [
    {
     "data": {
      "text/markdown": [
       "# The Future of Artificial Intelligence: Latest Trends and Key Players\n",
       "\n",
       "## Introduction\n",
       "Artificial Intelligence (AI) has become a driving force in transforming various industries, revolutionizing the way we work and interact with technology. Defined as the simulation of human intelligence processes by machines, AI has permeated our daily lives, from personalized recommendations on streaming services to autonomous vehicles on our roads. The importance and impact of AI cannot be understated, with its ability to streamline processes, improve decision-making, and enhance overall efficiency. In this blog post, we will delve into the latest trends and key players shaping the AI landscape today.\n",
       "\n",
       "## Latest Trends in Artificial Intelligence\n",
       "\n",
       "### Machine Learning\n",
       "Machine Learning, a subset of AI, focuses on the development of algorithms that enable machines to learn from and make predictions based on data. Recent advancements in machine learning technology have propelled the field forward, with breakthroughs in deep learning, reinforcement learning, and neural networks. Organizations across various sectors are leveraging machine learning to optimize operations, personalize user experiences, and drive innovation. Case studies showcasing successful machine learning projects highlight the transformative power of this technology in areas such as healthcare, finance, and marketing.\n",
       "\n",
       "### Natural Language Processing (NLP)\n",
       "Natural Language Processing (NLP) enables machines to understand, interpret, and generate human language. Recent developments in NLP technology, fueled by advancements in deep learning and neural network models, have enhanced the capabilities of AI-powered language processing systems. Use cases of NLP in real-world applications include sentiment analysis, language translation, and chatbot interactions, showcasing the versatility and potential impact of this technology in enhancing communication and user experiences.\n",
       "\n",
       "### Computer Vision\n",
       "Computer Vision focuses on enabling machines to interpret and analyze visual information from the world around them. Recent innovations in computer vision systems, driven by advancements in image recognition, object detection, and video analysis, have revolutionized industries such as healthcare, retail, and security. Examples of computer vision technology in action include facial recognition systems, autonomous drones, and augmented reality applications, demonstrating the vast potential of visual data processing in various domains.\n",
       "\n",
       "## Key Players in the AI Industry\n",
       "\n",
       "### Tech Giants\n",
       "Leading tech companies such as Google, Amazon, Microsoft, and IBM are at the forefront of AI innovation, investing heavily in research and development to push the boundaries of artificial intelligence. These tech giants have developed sophisticated AI solutions, from virtual assistants to autonomous vehicles, and continue to shape the industry with their AI strategies and initiatives. Their impact on the development of AI technology is profound, influencing trends, setting standards, and driving the adoption of AI across sectors.\n",
       "\n",
       "### Startups and Innovators\n",
       "Emerging AI startups are making waves in the industry, bringing fresh perspectives and innovative solutions to the table. These startups, with their agility and creativity, are disrupting traditional approaches to AI and driving rapid advancements in the field. Their unique contributions to AI technology, whether in healthcare, finance, or cybersecurity, have the potential to reshape industries and challenge established players in the market. By fostering a culture of innovation and experimentation, these startups are paving the way for the future of artificial intelligence.\n",
       "\n",
       "## Conclusion\n",
       "As artificial intelligence continues to evolve and expand its reach, staying informed about the latest trends and key players in the industry is essential for tech enthusiasts, business leaders, students, and anyone curious about the future of AI. By exploring the latest advancements in machine learning, NLP, and computer vision, and highlighting the contributions of tech giants and startups in shaping the AI landscape, we gain valuable insights into the transformative power of AI technology. The future of artificial intelligence is bright, promising new possibilities and opportunities for innovation and growth.\n",
       "\n",
       "*Stay informed about the latest trends and developments in artificial intelligence by subscribing to our newsletter for regular updates and insights.*\n",
       "\n",
       "This blog post provides a comprehensive overview of the latest trends and key players in the field of artificial intelligence, offering valuable insights and perspectives for readers interested in AI technology. By incorporating relevant SEO keywords and credible resources, the post aims to engage a diverse audience and provide a deeper understanding of the dynamic and evolving AI landscape."
      ],
      "text/plain": [
       "<IPython.core.display.Markdown object>"
      ]
     },
     "execution_count": 12,
     "metadata": {},
     "output_type": "execute_result"
    }
   ],
   "source": [
    "from IPython.display import Markdown\n",
    "Markdown(result)"
   ]
  },
  {
   "cell_type": "markdown",
   "metadata": {},
   "source": [
    "## Try it Yourself\n",
    "\n",
    "- Pass in a topic of your choice and see what the agents come up with!"
   ]
  },
  {
   "cell_type": "code",
   "execution_count": 17,
   "metadata": {
    "height": 47
   },
   "outputs": [
    {
     "name": "stdout",
     "output_type": "stream",
     "text": [
      "\u001b[1m\u001b[95m [DEBUG]: == Working Agent: Content Planner\u001b[00m\n",
      "\u001b[1m\u001b[95m [INFO]: == Starting Task: 1. Prioritize the latest trends, key players, and noteworthy news on Nvidia.\n",
      "2. Identify the target audience, considering their interests and pain points.\n",
      "3. Develop a detailed content outline including an introduction, key points, and a call to action.\n",
      "4. Include SEO keywords and relevant data or sources.\u001b[00m\n",
      "\n",
      "\n",
      "\u001b[1m> Entering new CrewAgentExecutor chain...\u001b[0m\n",
      "\u001b[32;1m\u001b[1;3mI now can give a great answer\n",
      "\n",
      "Final Answer: \n",
      "\n",
      "Content Plan Document:\n",
      "\n",
      "Title: Unlocking the Power of Nvidia: Latest Trends, Key Players, and Noteworthy News\n",
      "\n",
      "Outline:\n",
      "I. Introduction\n",
      "- Brief overview of Nvidia as a leading technology company in the GPU industry\n",
      "- Importance of staying updated with the latest trends and news in the Nvidia ecosystem\n",
      "\n",
      "II. Latest Trends in Nvidia\n",
      "- AI and Machine Learning advancements\n",
      "- Gaming industry innovations\n",
      "- Data center solutions for cloud computing\n",
      "\n",
      "III. Key Players in the Nvidia Ecosystem\n",
      "- Nvidia's leadership team and key executives\n",
      "- Partnerships with other technology companies\n",
      "- Community of developers and enthusiasts\n",
      "\n",
      "IV. Noteworthy News on Nvidia\n",
      "- Recent product launches and updates\n",
      "- Financial performance and market trends\n",
      "- Industry accolades and recognition\n",
      "\n",
      "V. Target Audience Analysis\n",
      "- Tech enthusiasts and professionals interested in GPU technology\n",
      "- Gamers looking for the latest advancements in graphics technology\n",
      "- Businesses seeking data center solutions for AI and Machine Learning applications\n",
      "\n",
      "VI. SEO Keywords\n",
      "- Nvidia latest trends\n",
      "- Nvidia key players\n",
      "- Nvidia news updates\n",
      "- GPU technology advancements\n",
      "\n",
      "VII. Resources\n",
      "- Nvidia official website\n",
      "- Tech news websites (e.g. TechCrunch, The Verge)\n",
      "- Market research reports on GPU industry trends\n",
      "\n",
      "Call to Action:\n",
      "Stay informed and ahead of the curve with Nvidia's latest developments by following their official channels and industry news sources.\n",
      "\n",
      "Overall, this content plan aims to provide a comprehensive overview of Nvidia, covering the latest trends, key players, and noteworthy news to educate and engage the target audience. By incorporating SEO keywords and relevant resources, the article will be optimized for search engines and provide valuable insights for readers interested in Nvidia and GPU technology.\u001b[0m\n",
      "\n",
      "\u001b[1m> Finished chain.\u001b[0m\n",
      "\u001b[1m\u001b[92m [DEBUG]: == [Content Planner] Task output: Content Plan Document:\n",
      "\n",
      "Title: Unlocking the Power of Nvidia: Latest Trends, Key Players, and Noteworthy News\n",
      "\n",
      "Outline:\n",
      "I. Introduction\n",
      "- Brief overview of Nvidia as a leading technology company in the GPU industry\n",
      "- Importance of staying updated with the latest trends and news in the Nvidia ecosystem\n",
      "\n",
      "II. Latest Trends in Nvidia\n",
      "- AI and Machine Learning advancements\n",
      "- Gaming industry innovations\n",
      "- Data center solutions for cloud computing\n",
      "\n",
      "III. Key Players in the Nvidia Ecosystem\n",
      "- Nvidia's leadership team and key executives\n",
      "- Partnerships with other technology companies\n",
      "- Community of developers and enthusiasts\n",
      "\n",
      "IV. Noteworthy News on Nvidia\n",
      "- Recent product launches and updates\n",
      "- Financial performance and market trends\n",
      "- Industry accolades and recognition\n",
      "\n",
      "V. Target Audience Analysis\n",
      "- Tech enthusiasts and professionals interested in GPU technology\n",
      "- Gamers looking for the latest advancements in graphics technology\n",
      "- Businesses seeking data center solutions for AI and Machine Learning applications\n",
      "\n",
      "VI. SEO Keywords\n",
      "- Nvidia latest trends\n",
      "- Nvidia key players\n",
      "- Nvidia news updates\n",
      "- GPU technology advancements\n",
      "\n",
      "VII. Resources\n",
      "- Nvidia official website\n",
      "- Tech news websites (e.g. TechCrunch, The Verge)\n",
      "- Market research reports on GPU industry trends\n",
      "\n",
      "Call to Action:\n",
      "Stay informed and ahead of the curve with Nvidia's latest developments by following their official channels and industry news sources.\n",
      "\n",
      "Overall, this content plan aims to provide a comprehensive overview of Nvidia, covering the latest trends, key players, and noteworthy news to educate and engage the target audience. By incorporating SEO keywords and relevant resources, the article will be optimized for search engines and provide valuable insights for readers interested in Nvidia and GPU technology.\n",
      "\n",
      "\u001b[00m\n",
      "\u001b[1m\u001b[95m [DEBUG]: == Working Agent: Content Writer\u001b[00m\n",
      "\u001b[1m\u001b[95m [INFO]: == Starting Task: 1. Use the content plan to craft a compelling blog post on Nvidia.\n",
      "2. Incorporate SEO keywords naturally.\n",
      "3. Sections/Subtitles are properly named in an engaging manner.\n",
      "4. Ensure the post is structured with an engaging introduction, insightful body, and a summarizing conclusion.\n",
      "5. Proofread for grammatical errors and alignment with the brand's voice.\n",
      "\u001b[00m\n",
      "\n",
      "\n",
      "\u001b[1m> Entering new CrewAgentExecutor chain...\u001b[0m\n",
      "\u001b[32;1m\u001b[1;3mI now can give a great answer\n",
      "\n",
      "Final Answer:\n",
      "\n",
      "# Unlocking the Power of Nvidia: Latest Trends, Key Players, and Noteworthy News\n",
      "\n",
      "## Introduction\n",
      "\n",
      "Nvidia stands as a prominent figure in the technology industry, specifically known for its contributions to the GPU sector. With a focus on innovation and pushing the boundaries of graphics technology, Nvidia has established itself as a leader in the field. Staying informed about the latest trends and news surrounding Nvidia is crucial for tech enthusiasts, gamers, and businesses alike to understand the evolving landscape of GPU technology.\n",
      "\n",
      "## Latest Trends in Nvidia\n",
      "\n",
      "Nvidia's advancements in AI and Machine Learning have been groundbreaking, with the company consistently pushing the boundaries of what is possible in these fields. From autonomous vehicles to healthcare applications, Nvidia's technology plays a vital role in driving innovation. Additionally, Nvidia's impact on the gaming industry cannot be understated, with their graphics cards revolutionizing the gaming experience for players around the world. Furthermore, Nvidia's data center solutions for cloud computing have paved the way for more efficient and powerful computing capabilities.\n",
      "\n",
      "## Key Players in the Nvidia Ecosystem\n",
      "\n",
      "Nvidia's leadership team, including key executives such as CEO Jensen Huang, plays a pivotal role in driving the company's vision and strategy forward. Collaborations and partnerships with other technology companies further enhance Nvidia's reach and influence in the industry. Moreover, Nvidia has cultivated a vibrant community of developers and enthusiasts who contribute to the growth and development of the Nvidia ecosystem.\n",
      "\n",
      "## Noteworthy News on Nvidia\n",
      "\n",
      "Keeping up with Nvidia's recent product launches and updates is essential to understanding the company's direction and impact on the market. Monitoring Nvidia's financial performance and market trends provides valuable insights into the company's growth and success. Additionally, industry accolades and recognition highlight Nvidia's position as a leading innovator in the GPU industry.\n",
      "\n",
      "## Conclusion\n",
      "\n",
      "In conclusion, Nvidia's latest trends, key players, and noteworthy news are essential components for tech enthusiasts, gamers, and businesses to stay informed about the evolving landscape of GPU technology. By following Nvidia's official channels and industry news sources, individuals can stay ahead of the curve and gain valuable insights into Nvidia's developments. As Nvidia continues to push the boundaries of graphics technology, staying informed and engaged with the company's latest updates is crucial for anyone interested in the future of GPU technology.\u001b[0m\n",
      "\n",
      "\u001b[1m> Finished chain.\u001b[0m\n",
      "\u001b[1m\u001b[92m [DEBUG]: == [Content Writer] Task output: # Unlocking the Power of Nvidia: Latest Trends, Key Players, and Noteworthy News\n",
      "\n",
      "## Introduction\n",
      "\n",
      "Nvidia stands as a prominent figure in the technology industry, specifically known for its contributions to the GPU sector. With a focus on innovation and pushing the boundaries of graphics technology, Nvidia has established itself as a leader in the field. Staying informed about the latest trends and news surrounding Nvidia is crucial for tech enthusiasts, gamers, and businesses alike to understand the evolving landscape of GPU technology.\n",
      "\n",
      "## Latest Trends in Nvidia\n",
      "\n",
      "Nvidia's advancements in AI and Machine Learning have been groundbreaking, with the company consistently pushing the boundaries of what is possible in these fields. From autonomous vehicles to healthcare applications, Nvidia's technology plays a vital role in driving innovation. Additionally, Nvidia's impact on the gaming industry cannot be understated, with their graphics cards revolutionizing the gaming experience for players around the world. Furthermore, Nvidia's data center solutions for cloud computing have paved the way for more efficient and powerful computing capabilities.\n",
      "\n",
      "## Key Players in the Nvidia Ecosystem\n",
      "\n",
      "Nvidia's leadership team, including key executives such as CEO Jensen Huang, plays a pivotal role in driving the company's vision and strategy forward. Collaborations and partnerships with other technology companies further enhance Nvidia's reach and influence in the industry. Moreover, Nvidia has cultivated a vibrant community of developers and enthusiasts who contribute to the growth and development of the Nvidia ecosystem.\n",
      "\n",
      "## Noteworthy News on Nvidia\n",
      "\n",
      "Keeping up with Nvidia's recent product launches and updates is essential to understanding the company's direction and impact on the market. Monitoring Nvidia's financial performance and market trends provides valuable insights into the company's growth and success. Additionally, industry accolades and recognition highlight Nvidia's position as a leading innovator in the GPU industry.\n",
      "\n",
      "## Conclusion\n",
      "\n",
      "In conclusion, Nvidia's latest trends, key players, and noteworthy news are essential components for tech enthusiasts, gamers, and businesses to stay informed about the evolving landscape of GPU technology. By following Nvidia's official channels and industry news sources, individuals can stay ahead of the curve and gain valuable insights into Nvidia's developments. As Nvidia continues to push the boundaries of graphics technology, staying informed and engaged with the company's latest updates is crucial for anyone interested in the future of GPU technology.\n",
      "\n",
      "\u001b[00m\n",
      "\u001b[1m\u001b[95m [DEBUG]: == Working Agent: Editor\u001b[00m\n",
      "\u001b[1m\u001b[95m [INFO]: == Starting Task: Proofread the given blog post for grammatical errors and alignment with the brand's voice.\u001b[00m\n",
      "\n",
      "\n",
      "\u001b[1m> Entering new CrewAgentExecutor chain...\u001b[0m\n"
     ]
    },
    {
     "name": "stdout",
     "output_type": "stream",
     "text": [
      "\u001b[32;1m\u001b[1;3mI now can give a great answer\n",
      "\n",
      "Final Answer:\n",
      "\n",
      "# Unlocking the Power of Nvidia: Latest Trends, Key Players, and Noteworthy News\n",
      "\n",
      "Nvidia stands as a prominent figure in the technology industry, specifically known for its contributions to the GPU sector. With a focus on innovation and pushing the boundaries of graphics technology, Nvidia has established itself as a leader in the field. Staying informed about the latest trends and news surrounding Nvidia is crucial for tech enthusiasts, gamers, and businesses alike to understand the evolving landscape of GPU technology.\n",
      "\n",
      "Nvidia's advancements in AI and Machine Learning have been groundbreaking, with the company consistently pushing the boundaries of what is possible in these fields. From autonomous vehicles to healthcare applications, Nvidia's technology plays a vital role in driving innovation. Additionally, Nvidia's impact on the gaming industry cannot be understated, with their graphics cards revolutionizing the gaming experience for players around the world. Furthermore, Nvidia's data center solutions for cloud computing have paved the way for more efficient and powerful computing capabilities.\n",
      "\n",
      "Nvidia's leadership team, including key executives such as CEO Jensen Huang, plays a pivotal role in driving the company's vision and strategy forward. Collaborations and partnerships with other technology companies further enhance Nvidia's reach and influence in the industry. Moreover, Nvidia has cultivated a vibrant community of developers and enthusiasts who contribute to the growth and development of the Nvidia ecosystem.\n",
      "\n",
      "Keeping up with Nvidia's recent product launches and updates is essential to understanding the company's direction and impact on the market. Monitoring Nvidia's financial performance and market trends provides valuable insights into the company's growth and success. Additionally, industry accolades and recognition highlight Nvidia's position as a leading innovator in the GPU industry.\n",
      "\n",
      "In conclusion, Nvidia's latest trends, key players, and noteworthy news are essential components for tech enthusiasts, gamers, and businesses to stay informed about the evolving landscape of GPU technology. By following Nvidia's official channels and industry news sources, individuals can stay ahead of the curve and gain valuable insights into Nvidia's developments. As Nvidia continues to push the boundaries of graphics technology, staying informed and engaged with the company's latest updates is crucial for anyone interested in the future of GPU technology.\u001b[0m\n",
      "\n",
      "\u001b[1m> Finished chain.\u001b[0m\n",
      "\u001b[1m\u001b[92m [DEBUG]: == [Editor] Task output: # Unlocking the Power of Nvidia: Latest Trends, Key Players, and Noteworthy News\n",
      "\n",
      "Nvidia stands as a prominent figure in the technology industry, specifically known for its contributions to the GPU sector. With a focus on innovation and pushing the boundaries of graphics technology, Nvidia has established itself as a leader in the field. Staying informed about the latest trends and news surrounding Nvidia is crucial for tech enthusiasts, gamers, and businesses alike to understand the evolving landscape of GPU technology.\n",
      "\n",
      "Nvidia's advancements in AI and Machine Learning have been groundbreaking, with the company consistently pushing the boundaries of what is possible in these fields. From autonomous vehicles to healthcare applications, Nvidia's technology plays a vital role in driving innovation. Additionally, Nvidia's impact on the gaming industry cannot be understated, with their graphics cards revolutionizing the gaming experience for players around the world. Furthermore, Nvidia's data center solutions for cloud computing have paved the way for more efficient and powerful computing capabilities.\n",
      "\n",
      "Nvidia's leadership team, including key executives such as CEO Jensen Huang, plays a pivotal role in driving the company's vision and strategy forward. Collaborations and partnerships with other technology companies further enhance Nvidia's reach and influence in the industry. Moreover, Nvidia has cultivated a vibrant community of developers and enthusiasts who contribute to the growth and development of the Nvidia ecosystem.\n",
      "\n",
      "Keeping up with Nvidia's recent product launches and updates is essential to understanding the company's direction and impact on the market. Monitoring Nvidia's financial performance and market trends provides valuable insights into the company's growth and success. Additionally, industry accolades and recognition highlight Nvidia's position as a leading innovator in the GPU industry.\n",
      "\n",
      "In conclusion, Nvidia's latest trends, key players, and noteworthy news are essential components for tech enthusiasts, gamers, and businesses to stay informed about the evolving landscape of GPU technology. By following Nvidia's official channels and industry news sources, individuals can stay ahead of the curve and gain valuable insights into Nvidia's developments. As Nvidia continues to push the boundaries of graphics technology, staying informed and engaged with the company's latest updates is crucial for anyone interested in the future of GPU technology.\n",
      "\n",
      "\u001b[00m\n"
     ]
    }
   ],
   "source": [
    "topic = \"Nvidia\"\n",
    "result = crew.kickoff(inputs={\"topic\": topic})"
   ]
  },
  {
   "cell_type": "code",
   "execution_count": 19,
   "metadata": {
    "height": 30
   },
   "outputs": [
    {
     "data": {
      "text/markdown": [
       "# Unlocking the Power of Nvidia: Latest Trends, Key Players, and Noteworthy News\n",
       "\n",
       "Nvidia stands as a prominent figure in the technology industry, specifically known for its contributions to the GPU sector. With a focus on innovation and pushing the boundaries of graphics technology, Nvidia has established itself as a leader in the field. Staying informed about the latest trends and news surrounding Nvidia is crucial for tech enthusiasts, gamers, and businesses alike to understand the evolving landscape of GPU technology.\n",
       "\n",
       "Nvidia's advancements in AI and Machine Learning have been groundbreaking, with the company consistently pushing the boundaries of what is possible in these fields. From autonomous vehicles to healthcare applications, Nvidia's technology plays a vital role in driving innovation. Additionally, Nvidia's impact on the gaming industry cannot be understated, with their graphics cards revolutionizing the gaming experience for players around the world. Furthermore, Nvidia's data center solutions for cloud computing have paved the way for more efficient and powerful computing capabilities.\n",
       "\n",
       "Nvidia's leadership team, including key executives such as CEO Jensen Huang, plays a pivotal role in driving the company's vision and strategy forward. Collaborations and partnerships with other technology companies further enhance Nvidia's reach and influence in the industry. Moreover, Nvidia has cultivated a vibrant community of developers and enthusiasts who contribute to the growth and development of the Nvidia ecosystem.\n",
       "\n",
       "Keeping up with Nvidia's recent product launches and updates is essential to understanding the company's direction and impact on the market. Monitoring Nvidia's financial performance and market trends provides valuable insights into the company's growth and success. Additionally, industry accolades and recognition highlight Nvidia's position as a leading innovator in the GPU industry.\n",
       "\n",
       "In conclusion, Nvidia's latest trends, key players, and noteworthy news are essential components for tech enthusiasts, gamers, and businesses to stay informed about the evolving landscape of GPU technology. By following Nvidia's official channels and industry news sources, individuals can stay ahead of the curve and gain valuable insights into Nvidia's developments. As Nvidia continues to push the boundaries of graphics technology, staying informed and engaged with the company's latest updates is crucial for anyone interested in the future of GPU technology."
      ],
      "text/plain": [
       "<IPython.core.display.Markdown object>"
      ]
     },
     "execution_count": 19,
     "metadata": {},
     "output_type": "execute_result"
    }
   ],
   "source": [
    "Markdown(result)"
   ]
  },
  {
   "cell_type": "markdown",
   "metadata": {},
   "source": [
    "<a name='1'></a>\n",
    " ## Other Popular Models as LLM for your Agents"
   ]
  },
  {
   "cell_type": "markdown",
   "metadata": {},
   "source": [
    "#### Hugging Face (HuggingFaceHub endpoint)\n",
    "\n",
    "```Python\n",
    "from langchain_community.llms import HuggingFaceHub\n",
    "\n",
    "llm = HuggingFaceHub(\n",
    "    repo_id=\"HuggingFaceH4/zephyr-7b-beta\",\n",
    "    huggingfacehub_api_token=\"<HF_TOKEN_HERE>\",\n",
    "    task=\"text-generation\",\n",
    ")\n",
    "\n",
    "### you will pass \"llm\" to your agent function\n",
    "```"
   ]
  },
  {
   "cell_type": "markdown",
   "metadata": {},
   "source": [
    "#### Mistral API\n",
    "\n",
    "```Python\n",
    "OPENAI_API_KEY=your-mistral-api-key\n",
    "OPENAI_API_BASE=https://api.mistral.ai/v1\n",
    "OPENAI_MODEL_NAME=\"mistral-small\"\n",
    "```"
   ]
  },
  {
   "cell_type": "markdown",
   "metadata": {},
   "source": [
    "#### Cohere\n",
    "\n",
    "```Python\n",
    "from langchain_community.chat_models import ChatCohere\n",
    "# Initialize language model\n",
    "os.environ[\"COHERE_API_KEY\"] = \"your-cohere-api-key\"\n",
    "llm = ChatCohere()\n",
    "\n",
    "### you will pass \"llm\" to your agent function\n",
    "```"
   ]
  },
  {
   "cell_type": "markdown",
   "metadata": {},
   "source": [
    "### For using Llama locally with Ollama and more, checkout the crewAI documentation on [Connecting to any LLM](https://docs.crewai.com/how-to/LLM-Connections/)."
   ]
  },
  {
   "cell_type": "code",
   "execution_count": null,
   "metadata": {
    "height": 30
   },
   "outputs": [],
   "source": []
  },
  {
   "cell_type": "code",
   "execution_count": null,
   "metadata": {
    "height": 30
   },
   "outputs": [],
   "source": []
  },
  {
   "cell_type": "code",
   "execution_count": null,
   "metadata": {
    "height": 30
   },
   "outputs": [],
   "source": []
  }
 ],
 "metadata": {
  "colab": {
   "gpuType": "T4",
   "provenance": []
  },
  "kernelspec": {
   "display_name": "Python 3 (ipykernel)",
   "language": "python",
   "name": "python3"
  },
  "language_info": {
   "codemirror_mode": {
    "name": "ipython",
    "version": 3
   },
   "file_extension": ".py",
   "mimetype": "text/x-python",
   "name": "python",
   "nbconvert_exporter": "python",
   "pygments_lexer": "ipython3",
   "version": "3.11.9"
  }
 },
 "nbformat": 4,
 "nbformat_minor": 4
}
